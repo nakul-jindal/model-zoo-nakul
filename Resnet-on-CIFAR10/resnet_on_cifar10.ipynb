{
  "nbformat": 4,
  "nbformat_minor": 0,
  "metadata": {
    "colab": {
      "name": "resnet-on-cifar10.ipynb",
      "provenance": [],
      "collapsed_sections": [],
      "authorship_tag": "ABX9TyM0WCgCY9zbhWNDPMkTJfPj",
      "include_colab_link": true
    },
    "kernelspec": {
      "name": "python3",
      "display_name": "Python 3"
    },
    "accelerator": "GPU",
    "widgets": {
      "application/vnd.jupyter.widget-state+json": {
        "e20285d6a74c4326959ab7ce5efe627f": {
          "model_module": "@jupyter-widgets/controls",
          "model_name": "HBoxModel",
          "state": {
            "_view_name": "HBoxView",
            "_dom_classes": [],
            "_model_name": "HBoxModel",
            "_view_module": "@jupyter-widgets/controls",
            "_model_module_version": "1.5.0",
            "_view_count": null,
            "_view_module_version": "1.5.0",
            "box_style": "",
            "layout": "IPY_MODEL_eb0de1ec52c44ae892ae023a30dafb61",
            "_model_module": "@jupyter-widgets/controls",
            "children": [
              "IPY_MODEL_82b28566520f49e9abce2f4385ef3123",
              "IPY_MODEL_231f4c39eaf9498982485b6b692de2ba"
            ]
          }
        },
        "eb0de1ec52c44ae892ae023a30dafb61": {
          "model_module": "@jupyter-widgets/base",
          "model_name": "LayoutModel",
          "state": {
            "_view_name": "LayoutView",
            "grid_template_rows": null,
            "right": null,
            "justify_content": null,
            "_view_module": "@jupyter-widgets/base",
            "overflow": null,
            "_model_module_version": "1.2.0",
            "_view_count": null,
            "flex_flow": null,
            "width": null,
            "min_width": null,
            "border": null,
            "align_items": null,
            "bottom": null,
            "_model_module": "@jupyter-widgets/base",
            "top": null,
            "grid_column": null,
            "overflow_y": null,
            "overflow_x": null,
            "grid_auto_flow": null,
            "grid_area": null,
            "grid_template_columns": null,
            "flex": null,
            "_model_name": "LayoutModel",
            "justify_items": null,
            "grid_row": null,
            "max_height": null,
            "align_content": null,
            "visibility": null,
            "align_self": null,
            "height": null,
            "min_height": null,
            "padding": null,
            "grid_auto_rows": null,
            "grid_gap": null,
            "max_width": null,
            "order": null,
            "_view_module_version": "1.2.0",
            "grid_template_areas": null,
            "object_position": null,
            "object_fit": null,
            "grid_auto_columns": null,
            "margin": null,
            "display": null,
            "left": null
          }
        },
        "82b28566520f49e9abce2f4385ef3123": {
          "model_module": "@jupyter-widgets/controls",
          "model_name": "FloatProgressModel",
          "state": {
            "_view_name": "ProgressView",
            "style": "IPY_MODEL_e108237cff784be0b1bb861e5b228fda",
            "_dom_classes": [],
            "description": "",
            "_model_name": "FloatProgressModel",
            "bar_style": "info",
            "max": 1,
            "_view_module": "@jupyter-widgets/controls",
            "_model_module_version": "1.5.0",
            "value": 1,
            "_view_count": null,
            "_view_module_version": "1.5.0",
            "orientation": "horizontal",
            "min": 0,
            "description_tooltip": null,
            "_model_module": "@jupyter-widgets/controls",
            "layout": "IPY_MODEL_ec89aa19621b473cba253daabdda12e5"
          }
        },
        "231f4c39eaf9498982485b6b692de2ba": {
          "model_module": "@jupyter-widgets/controls",
          "model_name": "HTMLModel",
          "state": {
            "_view_name": "HTMLView",
            "style": "IPY_MODEL_51e6feddcc7d49f99ef3ba674f0f65e9",
            "_dom_classes": [],
            "description": "",
            "_model_name": "HTMLModel",
            "placeholder": "​",
            "_view_module": "@jupyter-widgets/controls",
            "_model_module_version": "1.5.0",
            "value": " 170500096/? [00:30&lt;00:00, 18274065.59it/s]",
            "_view_count": null,
            "_view_module_version": "1.5.0",
            "description_tooltip": null,
            "_model_module": "@jupyter-widgets/controls",
            "layout": "IPY_MODEL_2b454a59e9fa46759e7ab758daffd940"
          }
        },
        "e108237cff784be0b1bb861e5b228fda": {
          "model_module": "@jupyter-widgets/controls",
          "model_name": "ProgressStyleModel",
          "state": {
            "_view_name": "StyleView",
            "_model_name": "ProgressStyleModel",
            "description_width": "initial",
            "_view_module": "@jupyter-widgets/base",
            "_model_module_version": "1.5.0",
            "_view_count": null,
            "_view_module_version": "1.2.0",
            "bar_color": null,
            "_model_module": "@jupyter-widgets/controls"
          }
        },
        "ec89aa19621b473cba253daabdda12e5": {
          "model_module": "@jupyter-widgets/base",
          "model_name": "LayoutModel",
          "state": {
            "_view_name": "LayoutView",
            "grid_template_rows": null,
            "right": null,
            "justify_content": null,
            "_view_module": "@jupyter-widgets/base",
            "overflow": null,
            "_model_module_version": "1.2.0",
            "_view_count": null,
            "flex_flow": null,
            "width": null,
            "min_width": null,
            "border": null,
            "align_items": null,
            "bottom": null,
            "_model_module": "@jupyter-widgets/base",
            "top": null,
            "grid_column": null,
            "overflow_y": null,
            "overflow_x": null,
            "grid_auto_flow": null,
            "grid_area": null,
            "grid_template_columns": null,
            "flex": null,
            "_model_name": "LayoutModel",
            "justify_items": null,
            "grid_row": null,
            "max_height": null,
            "align_content": null,
            "visibility": null,
            "align_self": null,
            "height": null,
            "min_height": null,
            "padding": null,
            "grid_auto_rows": null,
            "grid_gap": null,
            "max_width": null,
            "order": null,
            "_view_module_version": "1.2.0",
            "grid_template_areas": null,
            "object_position": null,
            "object_fit": null,
            "grid_auto_columns": null,
            "margin": null,
            "display": null,
            "left": null
          }
        },
        "51e6feddcc7d49f99ef3ba674f0f65e9": {
          "model_module": "@jupyter-widgets/controls",
          "model_name": "DescriptionStyleModel",
          "state": {
            "_view_name": "StyleView",
            "_model_name": "DescriptionStyleModel",
            "description_width": "",
            "_view_module": "@jupyter-widgets/base",
            "_model_module_version": "1.5.0",
            "_view_count": null,
            "_view_module_version": "1.2.0",
            "_model_module": "@jupyter-widgets/controls"
          }
        },
        "2b454a59e9fa46759e7ab758daffd940": {
          "model_module": "@jupyter-widgets/base",
          "model_name": "LayoutModel",
          "state": {
            "_view_name": "LayoutView",
            "grid_template_rows": null,
            "right": null,
            "justify_content": null,
            "_view_module": "@jupyter-widgets/base",
            "overflow": null,
            "_model_module_version": "1.2.0",
            "_view_count": null,
            "flex_flow": null,
            "width": null,
            "min_width": null,
            "border": null,
            "align_items": null,
            "bottom": null,
            "_model_module": "@jupyter-widgets/base",
            "top": null,
            "grid_column": null,
            "overflow_y": null,
            "overflow_x": null,
            "grid_auto_flow": null,
            "grid_area": null,
            "grid_template_columns": null,
            "flex": null,
            "_model_name": "LayoutModel",
            "justify_items": null,
            "grid_row": null,
            "max_height": null,
            "align_content": null,
            "visibility": null,
            "align_self": null,
            "height": null,
            "min_height": null,
            "padding": null,
            "grid_auto_rows": null,
            "grid_gap": null,
            "max_width": null,
            "order": null,
            "_view_module_version": "1.2.0",
            "grid_template_areas": null,
            "object_position": null,
            "object_fit": null,
            "grid_auto_columns": null,
            "margin": null,
            "display": null,
            "left": null
          }
        }
      }
    }
  },
  "cells": [
    {
      "cell_type": "markdown",
      "metadata": {
        "id": "view-in-github",
        "colab_type": "text"
      },
      "source": [
        "<a href=\"https://colab.research.google.com/github/nakul-jindal/Resnet-on-CIFAR10/blob/master/resnet_on_cifar10.ipynb\" target=\"_parent\"><img src=\"https://colab.research.google.com/assets/colab-badge.svg\" alt=\"Open In Colab\"/></a>"
      ]
    },
    {
      "cell_type": "markdown",
      "metadata": {
        "id": "tdQqtaCWilW4",
        "colab_type": "text"
      },
      "source": [
        "network inputs are 32×32 images, with the per-pixel mean\n",
        "subtracted. \n",
        "\n",
        "The subsampling is performed by convolutions with a stride of 2. \n",
        "\n",
        "The network ends with a global average pooling, a 10-way fully-connected layer, and softmax. \n",
        "\n",
        "There are total 6n+2 stacked weighted layers\n",
        "\n",
        "output map size 32×32 16×16 8×8\n",
        " ###layers         1+2n     2n 2n\n",
        " ###filters        16       32 64\n",
        "\n",
        "weight decay of 0.0001 and momentum of 0.9\n",
        "\n",
        "no dropout\n",
        "\n",
        "batch size of 128 on GPU\n",
        "\n",
        "We start with a learning\n",
        "rate of 0.1, divide it by 10 at intervals\n",
        "\n",
        "4 pixels are padded on each side,\n",
        "and a 32×32 crop is randomly sampled from the padded\n",
        "image or its horizontal flip. For testing, we only evaluate\n",
        "the single view of the original 32×32 image\n",
        "\n",
        "compare n = {3, 5, 7, 9}, leading to 20, 32, 44, and\n",
        "56-layer networks\n"
      ]
    },
    {
      "cell_type": "code",
      "metadata": {
        "id": "T5SpkTn46dFJ",
        "colab_type": "code",
        "colab": {}
      },
      "source": [
        "import torch\n",
        "import torch.nn as nn\n",
        "import torch.nn.functional as F\n",
        "import torchvision\n",
        "import torchvision.transforms as transforms\n",
        "from torch.optim.lr_scheduler import StepLR"
      ],
      "execution_count": 0,
      "outputs": []
    },
    {
      "cell_type": "code",
      "metadata": {
        "id": "nSei1icrEchx",
        "colab_type": "code",
        "outputId": "90f276a8-0927-4475-86ae-9b9ca22a8040",
        "colab": {
          "base_uri": "https://localhost:8080/",
          "height": 103,
          "referenced_widgets": [
            "e20285d6a74c4326959ab7ce5efe627f",
            "eb0de1ec52c44ae892ae023a30dafb61",
            "82b28566520f49e9abce2f4385ef3123",
            "231f4c39eaf9498982485b6b692de2ba",
            "e108237cff784be0b1bb861e5b228fda",
            "ec89aa19621b473cba253daabdda12e5",
            "51e6feddcc7d49f99ef3ba674f0f65e9",
            "2b454a59e9fa46759e7ab758daffd940"
          ]
        }
      },
      "source": [
        "transform = transforms.Compose([transforms.RandomHorizontalFlip(p=0.5) , transforms.RandomCrop(size=32,padding=4), transforms.ToTensor(), transforms.Normalize((0.4914, 0.4822, 0.4465),(0.247, 0.243, 0.261))])\n",
        "trainset = torchvision.datasets.CIFAR10(root='./data', train=True, download=True, transform=transform)\n",
        "trainloader = torch.utils.data.DataLoader(trainset, batch_size=128, shuffle=True, num_workers=2)\n",
        "testset = torchvision.datasets.CIFAR10(root='./data', train=False, download=True, transform=transform)\n",
        "testloader = torch.utils.data.DataLoader(testset, batch_size=128, shuffle=False, num_workers=2)"
      ],
      "execution_count": 2,
      "outputs": [
        {
          "output_type": "stream",
          "text": [
            "Downloading https://www.cs.toronto.edu/~kriz/cifar-10-python.tar.gz to ./data/cifar-10-python.tar.gz\n"
          ],
          "name": "stdout"
        },
        {
          "output_type": "display_data",
          "data": {
            "application/vnd.jupyter.widget-view+json": {
              "model_id": "e20285d6a74c4326959ab7ce5efe627f",
              "version_minor": 0,
              "version_major": 2
            },
            "text/plain": [
              "HBox(children=(FloatProgress(value=1.0, bar_style='info', max=1.0), HTML(value='')))"
            ]
          },
          "metadata": {
            "tags": []
          }
        },
        {
          "output_type": "stream",
          "text": [
            "Extracting ./data/cifar-10-python.tar.gz to ./data\n",
            "Files already downloaded and verified\n"
          ],
          "name": "stdout"
        }
      ]
    },
    {
      "cell_type": "code",
      "metadata": {
        "id": "hE7tiuMR62tq",
        "colab_type": "code",
        "outputId": "fcfb6ff2-34de-4e2a-faf5-d5a4d1b1e4ce",
        "colab": {
          "base_uri": "https://localhost:8080/",
          "height": 35
        }
      },
      "source": [
        "device = torch.device(\"cuda:0\" if torch.cuda.is_available() else \"cpu\")\n",
        "print(device)"
      ],
      "execution_count": 3,
      "outputs": [
        {
          "output_type": "stream",
          "text": [
            "cuda:0\n"
          ],
          "name": "stdout"
        }
      ]
    },
    {
      "cell_type": "code",
      "metadata": {
        "id": "_b9VUB9q_KvI",
        "colab_type": "code",
        "colab": {}
      },
      "source": [
        "class simple(nn.Module):\n",
        "    def __init__(self, in_channels, out_channels, stride=1, down_sample=None) :\n",
        "        super(simple, self).__init__()\n",
        "        self.conv1=nn.Conv2d(in_channels, out_channels, kernel_size=3,stride=stride, padding=1, bias=False)\n",
        "        self.bn1=nn.BatchNorm2d(out_channels)\n",
        "        self.conv2=nn.Conv2d(out_channels, out_channels, kernel_size=3,stride=1, padding=1, bias=False)\n",
        "        self.bn2=nn.BatchNorm2d(out_channels)\n",
        "        self.down_sample=down_sample\n",
        "        self.relu=nn.ReLU(inplace=True)\n",
        "\n",
        "    def forward(self,x):\n",
        "      res=x\n",
        "      out = self.relu(self.bn1(self.conv1(x)))\n",
        "      out = self.bn2(self.conv2(out))\n",
        "      if self.down_sample:\n",
        "        res=self.down_sample(x)\n",
        "      out= self.relu(out+res)\n",
        "      return out    "
      ],
      "execution_count": 0,
      "outputs": []
    },
    {
      "cell_type": "code",
      "metadata": {
        "id": "nkx7K4mjHYEh",
        "colab_type": "code",
        "colab": {}
      },
      "source": [
        "class Bottleneck(nn.Module):\n",
        "  def __init__(self, in_channels, out_channels, stride=1, down_sampling=None):\n",
        "    super(Bottleneck, self).__init__()\n",
        "    self.conv1=nn.Conv2d(in_channels, out_channels//4, kernel_size=1,stride=stride, padding=0, bias=False)\n",
        "    self.bn1=nn.BatchNorm2d(out_channels//4)\n",
        "    self.relu=nn.ReLU(inplace=True)  \n",
        "    self.conv2=nn.Conv2d(out_channels//4, out_channels//4, kernel_size=3,stride=1, padding=1, bias=False)\n",
        "    self.bn2=nn.BatchNorm2d(out_channels//4)\n",
        "    self.conv3=nn.Conv2d(out_channels//4, out_channels, kernel_size=1,stride=1, padding=0, bias=False)\n",
        "    self.bn3=nn.BatchNorm2d(out_channels)\n",
        "\n",
        "    self.down_sampling=down_sampling\n",
        "  def forward(self,x):\n",
        "    res=x\n",
        "    out = self.conv1(x)\n",
        "    out = self.bn1(out)\n",
        "    out = self.relu(out)\n",
        "    out = self.conv2(out)\n",
        "    out = self.bn2(out)\n",
        "    out = self.relu(out)\n",
        "    out=self.conv3(out)\n",
        "    out=self.bn3(out)\n",
        "    if self.down_sampling:\n",
        "      res=self.down_sampling(x)\n",
        "    out = out+res \n",
        "    out= self.relu(out)\n",
        "    return out"
      ],
      "execution_count": 0,
      "outputs": []
    },
    {
      "cell_type": "code",
      "metadata": {
        "id": "xz7KgsprI06U",
        "colab_type": "code",
        "colab": {}
      },
      "source": [
        "class Net(nn.Module):\n",
        "    def __init__(self, block, layers, num_classes=10):\n",
        "       super(Net, self).__init__()\n",
        "       self.in_channels=16\n",
        "       self.conv=nn.Conv2d(3,16, kernel_size=3,stride=1, padding=1, bias=False)\n",
        "       self.bn=nn.BatchNorm2d(16)\n",
        "       self.relu = nn.ReLU(inplace=True)\n",
        "       self.l1 = self.make_layer(block, 16, layers[0])\n",
        "       self.l2 = self.make_layer(block, 32, layers[1], 2)\n",
        "       self.l3 = self.make_layer(block, 64, layers[2], 2)\n",
        "       self.avg_pool = nn.AvgPool2d(8)\n",
        "       self.fc = nn.Linear(64, num_classes)\n",
        "\n",
        "    def make_layer(self, block, out_channels, blocks, stride=1):\n",
        "       down_sample = None\n",
        "       if (stride != 1) or (self.in_channels != out_channels):\n",
        "            down_sample = nn.Sequential( nn.Conv2d(self.in_channels, out_channels, kernel_size=3,stride=stride, padding=1, bias=False), nn.BatchNorm2d(out_channels))\n",
        "       layers = []\n",
        "       layers.append(block(self.in_channels, out_channels, stride, down_sample))\n",
        "       self.in_channels=out_channels\n",
        "       for i in range(1, blocks):\n",
        "            layers.append(block(out_channels, out_channels))\n",
        "       return nn.Sequential(*layers)\n",
        "    \n",
        "    def forward(self, x):\n",
        "        out = self.relu(self.bn(self.conv(x)))\n",
        "        out = self.l1(out)\n",
        "        out = self.l2(out)\n",
        "        out = self.l3(out)\n",
        "        out = self.avg_pool(out)\n",
        "        out = out.view(out.size(0), -1)\n",
        "        out = self.fc(out)\n",
        "        return out\n"
      ],
      "execution_count": 0,
      "outputs": []
    },
    {
      "cell_type": "code",
      "metadata": {
        "id": "NtSInerfHe1k",
        "colab_type": "code",
        "colab": {}
      },
      "source": [
        "n=7\n",
        "model = Net(block=simple, layers=[n,n,n]).to(device)"
      ],
      "execution_count": 0,
      "outputs": []
    },
    {
      "cell_type": "code",
      "metadata": {
        "id": "UBiwKAbMUDZw",
        "colab_type": "code",
        "colab": {}
      },
      "source": [
        "import torch.optim as optim\n",
        "criterion = nn.CrossEntropyLoss()\n",
        "optimizer = optim.SGD(model.parameters(), lr=0.1, momentum=0.9, weight_decay=0.0001, nesterov=True)              \n",
        "scheduler = StepLR(optimizer, step_size=64, gamma=0.1)"
      ],
      "execution_count": 0,
      "outputs": []
    },
    {
      "cell_type": "code",
      "metadata": {
        "id": "v4c4D3cPUJc4",
        "colab_type": "code",
        "colab": {
          "base_uri": "https://localhost:8080/",
          "height": 1000
        },
        "outputId": "6ae05aec-6a14-42ef-a2f5-6d9955f61020"
      },
      "source": [
        "for epoch in range(160):  \n",
        "\n",
        "    running_loss = 0.0\n",
        "    for i, data in enumerate(trainloader, 0):\n",
        "        inputs, labels = data[0].to(device), data[1].to(device)\n",
        "        inputs = inputs.requires_grad_()\n",
        "        optimizer.zero_grad()\n",
        "\n",
        "        outputs = model(inputs)\n",
        "        loss = criterion(outputs, labels)\n",
        "        loss.backward()\n",
        "        optimizer.step()\n",
        " \n",
        "        running_loss += loss.item()\n",
        "        if i % 300 == 299:    \n",
        "            print('[%d, %5d] loss: %.3f' %\n",
        "                  (epoch + 1, i + 1, running_loss / 300))\n",
        "            running_loss = 0.0\n",
        "        \n",
        "        \n",
        "    scheduler.step()\n",
        "\n",
        "print('Finished Training')"
      ],
      "execution_count": 9,
      "outputs": [
        {
          "output_type": "stream",
          "text": [
            "[1,   300] loss: 1.912\n",
            "[2,   300] loss: 1.434\n",
            "[3,   300] loss: 1.121\n",
            "[4,   300] loss: 0.870\n",
            "[5,   300] loss: 0.713\n",
            "[6,   300] loss: 0.625\n",
            "[7,   300] loss: 0.567\n",
            "[8,   300] loss: 0.520\n",
            "[9,   300] loss: 0.476\n",
            "[10,   300] loss: 0.448\n",
            "[11,   300] loss: 0.422\n",
            "[12,   300] loss: 0.401\n",
            "[13,   300] loss: 0.381\n",
            "[14,   300] loss: 0.365\n",
            "[15,   300] loss: 0.350\n",
            "[16,   300] loss: 0.337\n",
            "[17,   300] loss: 0.319\n",
            "[18,   300] loss: 0.320\n",
            "[19,   300] loss: 0.304\n",
            "[20,   300] loss: 0.299\n",
            "[21,   300] loss: 0.290\n",
            "[22,   300] loss: 0.279\n",
            "[23,   300] loss: 0.273\n",
            "[24,   300] loss: 0.267\n",
            "[25,   300] loss: 0.260\n",
            "[26,   300] loss: 0.255\n",
            "[27,   300] loss: 0.250\n",
            "[28,   300] loss: 0.248\n",
            "[29,   300] loss: 0.240\n",
            "[30,   300] loss: 0.236\n",
            "[31,   300] loss: 0.234\n",
            "[32,   300] loss: 0.229\n",
            "[33,   300] loss: 0.226\n",
            "[34,   300] loss: 0.223\n",
            "[35,   300] loss: 0.219\n",
            "[36,   300] loss: 0.221\n",
            "[37,   300] loss: 0.212\n",
            "[38,   300] loss: 0.211\n",
            "[39,   300] loss: 0.204\n",
            "[40,   300] loss: 0.200\n",
            "[41,   300] loss: 0.204\n",
            "[42,   300] loss: 0.200\n",
            "[43,   300] loss: 0.198\n",
            "[44,   300] loss: 0.197\n",
            "[45,   300] loss: 0.202\n",
            "[46,   300] loss: 0.194\n",
            "[47,   300] loss: 0.192\n",
            "[48,   300] loss: 0.186\n",
            "[49,   300] loss: 0.190\n",
            "[50,   300] loss: 0.187\n",
            "[51,   300] loss: 0.184\n",
            "[52,   300] loss: 0.182\n",
            "[53,   300] loss: 0.180\n",
            "[54,   300] loss: 0.183\n",
            "[55,   300] loss: 0.180\n",
            "[56,   300] loss: 0.179\n",
            "[57,   300] loss: 0.184\n",
            "[58,   300] loss: 0.172\n",
            "[59,   300] loss: 0.175\n",
            "[60,   300] loss: 0.175\n",
            "[61,   300] loss: 0.176\n",
            "[62,   300] loss: 0.174\n",
            "[63,   300] loss: 0.171\n",
            "[64,   300] loss: 0.174\n",
            "[65,   300] loss: 0.102\n",
            "[66,   300] loss: 0.070\n",
            "[67,   300] loss: 0.056\n",
            "[68,   300] loss: 0.052\n",
            "[69,   300] loss: 0.047\n",
            "[70,   300] loss: 0.042\n",
            "[71,   300] loss: 0.038\n",
            "[72,   300] loss: 0.036\n",
            "[73,   300] loss: 0.035\n",
            "[74,   300] loss: 0.031\n",
            "[75,   300] loss: 0.031\n",
            "[76,   300] loss: 0.027\n",
            "[77,   300] loss: 0.026\n",
            "[78,   300] loss: 0.024\n",
            "[79,   300] loss: 0.024\n",
            "[80,   300] loss: 0.023\n",
            "[81,   300] loss: 0.020\n",
            "[82,   300] loss: 0.021\n",
            "[83,   300] loss: 0.021\n",
            "[84,   300] loss: 0.018\n",
            "[85,   300] loss: 0.018\n",
            "[86,   300] loss: 0.017\n",
            "[87,   300] loss: 0.016\n",
            "[88,   300] loss: 0.017\n",
            "[89,   300] loss: 0.016\n",
            "[90,   300] loss: 0.017\n",
            "[91,   300] loss: 0.015\n",
            "[92,   300] loss: 0.014\n",
            "[93,   300] loss: 0.014\n",
            "[94,   300] loss: 0.016\n",
            "[95,   300] loss: 0.014\n",
            "[96,   300] loss: 0.011\n",
            "[97,   300] loss: 0.012\n",
            "[98,   300] loss: 0.012\n",
            "[99,   300] loss: 0.012\n",
            "[100,   300] loss: 0.013\n",
            "[101,   300] loss: 0.012\n",
            "[102,   300] loss: 0.013\n",
            "[103,   300] loss: 0.012\n",
            "[104,   300] loss: 0.012\n",
            "[105,   300] loss: 0.012\n",
            "[106,   300] loss: 0.011\n",
            "[107,   300] loss: 0.011\n",
            "[108,   300] loss: 0.011\n",
            "[109,   300] loss: 0.012\n",
            "[110,   300] loss: 0.012\n",
            "[111,   300] loss: 0.011\n",
            "[112,   300] loss: 0.010\n",
            "[113,   300] loss: 0.010\n",
            "[114,   300] loss: 0.010\n",
            "[115,   300] loss: 0.009\n",
            "[116,   300] loss: 0.009\n",
            "[117,   300] loss: 0.009\n",
            "[118,   300] loss: 0.009\n",
            "[119,   300] loss: 0.009\n",
            "[120,   300] loss: 0.008\n",
            "[121,   300] loss: 0.009\n",
            "[122,   300] loss: 0.009\n",
            "[123,   300] loss: 0.009\n",
            "[124,   300] loss: 0.009\n",
            "[125,   300] loss: 0.008\n",
            "[126,   300] loss: 0.008\n",
            "[127,   300] loss: 0.009\n",
            "[128,   300] loss: 0.009\n",
            "[129,   300] loss: 0.008\n",
            "[130,   300] loss: 0.006\n",
            "[131,   300] loss: 0.005\n",
            "[132,   300] loss: 0.005\n",
            "[133,   300] loss: 0.005\n",
            "[134,   300] loss: 0.004\n",
            "[135,   300] loss: 0.006\n",
            "[136,   300] loss: 0.005\n",
            "[137,   300] loss: 0.005\n",
            "[138,   300] loss: 0.004\n",
            "[139,   300] loss: 0.005\n",
            "[140,   300] loss: 0.004\n",
            "[141,   300] loss: 0.004\n",
            "[142,   300] loss: 0.004\n",
            "[143,   300] loss: 0.004\n",
            "[144,   300] loss: 0.004\n",
            "[145,   300] loss: 0.004\n",
            "[146,   300] loss: 0.004\n",
            "[147,   300] loss: 0.004\n",
            "[148,   300] loss: 0.005\n",
            "[149,   300] loss: 0.004\n",
            "[150,   300] loss: 0.004\n",
            "[151,   300] loss: 0.004\n",
            "[152,   300] loss: 0.004\n",
            "[153,   300] loss: 0.004\n",
            "[154,   300] loss: 0.004\n",
            "[155,   300] loss: 0.004\n",
            "[156,   300] loss: 0.004\n",
            "[157,   300] loss: 0.003\n",
            "[158,   300] loss: 0.003\n",
            "[159,   300] loss: 0.003\n",
            "[160,   300] loss: 0.004\n",
            "Finished Training\n"
          ],
          "name": "stdout"
        }
      ]
    },
    {
      "cell_type": "code",
      "metadata": {
        "id": "pUqAk7KeUsjo",
        "colab_type": "code",
        "colab": {
          "base_uri": "https://localhost:8080/",
          "height": 35
        },
        "outputId": "62d15de1-a003-465a-b246-2d0b61e77113"
      },
      "source": [
        "correct = 0\n",
        "total = 0\n",
        "with torch.no_grad():\n",
        "    for images, labels in testloader:\n",
        "        images = images.to(device)\n",
        "        labels = labels.to(device)\n",
        "        outputs = model(images)\n",
        "        _, predicted = torch.max(outputs.data, 1)\n",
        "        total += labels.size(0)\n",
        "        correct += (predicted == labels).sum().item()\n",
        "\n",
        "print('Accuracy of the simple residual network on the 10000 test images: %d %%' % (\n",
        "    100 * correct / total))"
      ],
      "execution_count": 10,
      "outputs": [
        {
          "output_type": "stream",
          "text": [
            "Accuracy of the simple residual network on the 10000 test images: 92 %\n"
          ],
          "name": "stdout"
        }
      ]
    },
    {
      "cell_type": "code",
      "metadata": {
        "id": "1njSOeRrUzjN",
        "colab_type": "code",
        "colab": {
          "base_uri": "https://localhost:8080/",
          "height": 215
        },
        "outputId": "82cc4124-73e7-4f6e-ca50-9d1ba7b77970"
      },
      "source": [
        "classes = ('plane', 'car', 'bird', 'cat',\n",
        "           'deer', 'dog', 'frog', 'horse', 'ship', 'truck')\n",
        "class_correct = list(0. for i in range(10))\n",
        "class_total = list(0. for i in range(10))\n",
        "with torch.no_grad():\n",
        "    for data in testloader:\n",
        "        images, labels = data[0].to(device), data[1].to(device)\n",
        "        outputs = model(images)\n",
        "        _, predicted = torch.max(outputs, 1)\n",
        "        c = (predicted == labels).squeeze()\n",
        "        for i in range(4):\n",
        "            label = labels[i]\n",
        "            class_correct[label] += c[i].item()\n",
        "            class_total[label] += 1\n",
        "\n",
        "print ('for simple residual network')\n",
        "\n",
        "for i in range(10):\n",
        "    print('Accuracy of %5s : %2d %%' % (\n",
        "        classes[i], 100 * class_correct[i] / class_total[i]))"
      ],
      "execution_count": 11,
      "outputs": [
        {
          "output_type": "stream",
          "text": [
            "for simple residual network\n",
            "Accuracy of plane : 89 %\n",
            "Accuracy of   car : 96 %\n",
            "Accuracy of  bird : 87 %\n",
            "Accuracy of   cat : 76 %\n",
            "Accuracy of  deer : 92 %\n",
            "Accuracy of   dog : 93 %\n",
            "Accuracy of  frog : 91 %\n",
            "Accuracy of horse : 100 %\n",
            "Accuracy of  ship : 93 %\n",
            "Accuracy of truck : 89 %\n"
          ],
          "name": "stdout"
        }
      ]
    },
    {
      "cell_type": "code",
      "metadata": {
        "id": "AiUaeLLYL7Fl",
        "colab_type": "code",
        "colab": {}
      },
      "source": [
        "n=5\n",
        "model = Net(block=Bottleneck , layers=[n,n,n]).to(device)"
      ],
      "execution_count": 0,
      "outputs": []
    },
    {
      "cell_type": "code",
      "metadata": {
        "id": "DUJflahXMD6B",
        "colab_type": "code",
        "colab": {}
      },
      "source": [
        "import torch.optim as optim\n",
        "criterion = nn.CrossEntropyLoss()\n",
        "optimizer = optim.SGD(model.parameters(), lr=0.1, momentum=0.9, weight_decay=0.0001, nesterov=True)           #     \n",
        "scheduler = StepLR(optimizer, step_size=64, gamma=0.1)"
      ],
      "execution_count": 0,
      "outputs": []
    },
    {
      "cell_type": "code",
      "metadata": {
        "id": "fqBnQCABHiYK",
        "colab_type": "code",
        "colab": {}
      },
      "source": [
        "for epoch in range(160):  \n",
        "\n",
        "    running_loss = 0.0\n",
        "    for i, data in enumerate(trainloader, 0):\n",
        "        inputs, labels = data[0].to(device), data[1].to(device)\n",
        "        inputs = inputs.requires_grad_()\n",
        "        optimizer.zero_grad()\n",
        "\n",
        "        outputs = model(inputs)\n",
        "        loss = criterion(outputs, labels)\n",
        "        loss.backward()\n",
        "        optimizer.step()\n",
        " \n",
        "        running_loss += loss.item()\n",
        "        if i % 300 == 299:    \n",
        "            print('[%d, %5d] loss: %.3f' %\n",
        "                  (epoch + 1, i + 1, running_loss / 300))\n",
        "            running_loss = 0.0\n",
        "        \n",
        "        \n",
        "    scheduler.step()\n",
        "\n",
        "print('Finished Training')"
      ],
      "execution_count": 0,
      "outputs": []
    },
    {
      "cell_type": "code",
      "metadata": {
        "id": "1_NkNfJfHRMy",
        "colab_type": "code",
        "colab": {}
      },
      "source": [
        "correct = 0\n",
        "total = 0\n",
        "with torch.no_grad():\n",
        "    for images, labels in testloader:\n",
        "        images = images.to(device)\n",
        "        labels = labels.to(device)\n",
        "        outputs = model(images)\n",
        "        _, predicted = torch.max(outputs.data, 1)\n",
        "        total += labels.size(0)\n",
        "        correct += (predicted == labels).sum().item()\n",
        "\n",
        "print('Accuracy of the bottleneck residual network on the 10000 test images: %d %%' % (\n",
        "    100 * correct / total))"
      ],
      "execution_count": 0,
      "outputs": []
    },
    {
      "cell_type": "code",
      "metadata": {
        "id": "DMAvWpCWHJ-P",
        "colab_type": "code",
        "colab": {}
      },
      "source": [
        "classes = ('plane', 'car', 'bird', 'cat',\n",
        "           'deer', 'dog', 'frog', 'horse', 'ship', 'truck')\n",
        "class_correct = list(0. for i in range(10))\n",
        "class_total = list(0. for i in range(10))\n",
        "with torch.no_grad():\n",
        "    for data in testloader:\n",
        "        images, labels = data[0].to(device), data[1].to(device)\n",
        "        outputs = model(images)\n",
        "        _, predicted = torch.max(outputs, 1)\n",
        "        c = (predicted == labels).squeeze()\n",
        "        for i in range(4):\n",
        "            label = labels[i]\n",
        "            class_correct[label] += c[i].item()\n",
        "            class_total[label] += 1\n",
        "\n",
        "print ('for bottleneck residual network')\n",
        "\n",
        "for i in range(10):\n",
        "    print('Accuracy of %5s : %2d %%' % (\n",
        "        classes[i], 100 * class_correct[i] / class_total[i]))"
      ],
      "execution_count": 0,
      "outputs": []
    }
  ]
}